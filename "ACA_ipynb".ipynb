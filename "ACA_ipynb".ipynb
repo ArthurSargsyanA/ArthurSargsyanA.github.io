{
  "nbformat": 4,
  "nbformat_minor": 0,
  "metadata": {
    "colab": {
      "provenance": [],
      "authorship_tag": "ABX9TyPCp2+xXaEd3BeS6bVZWnkM",
      "include_colab_link": true
    },
    "kernelspec": {
      "name": "python3",
      "display_name": "Python 3"
    },
    "language_info": {
      "name": "python"
    }
  },
  "cells": [
    {
      "cell_type": "markdown",
      "metadata": {
        "id": "view-in-github",
        "colab_type": "text"
      },
      "source": [
        "<a href=\"https://colab.research.google.com/github/ArthurSargsyanA/ArthurSargsyanA.github.io/blob/main/%22ACA_ipynb%22.ipynb\" target=\"_parent\"><img src=\"https://colab.research.google.com/assets/colab-badge.svg\" alt=\"Open In Colab\"/></a>"
      ]
    },
    {
      "cell_type": "markdown",
      "source": [
        "**Homework 1**"
      ],
      "metadata": {
        "id": "6MbHM43QJGzu"
      }
    },
    {
      "cell_type": "markdown",
      "source": [
        "# Problem 1 ~ Find the Duplicates"
      ],
      "metadata": {
        "id": "CK-R-GN9HHxg"
      }
    },
    {
      "cell_type": "markdown",
      "source": [
        "Given an unsorted list of numbers (integers) n, find and print all the duplicates in the list.                                                                \n",
        "Think of the data structures used and try to implement an optimal solution for the problem.\n",
        "\n",
        "Additionally: Add comments on the complexity analysis of the implementation (Big-O)."
      ],
      "metadata": {
        "id": "7Y0h6qBTK8W4"
      }
    },
    {
      "cell_type": "markdown",
      "source": [
        "complexity o(n)"
      ],
      "metadata": {
        "id": "_n-fmBvSK1c7"
      }
    },
    {
      "cell_type": "code",
      "source": [
        "def duplicat(arr):\n",
        "  '''\n",
        "  duplicat(list arr)-> set or None\n",
        "\n",
        "  Args:\n",
        "    - arr: A list of elements to check for duplicates.\n",
        "  \n",
        "  Returns:\n",
        "    - A set of elements that occur more than once in the input list `arr` , or None if there are no duplicates\n",
        "  '''\n",
        "  s = set()\n",
        "  res = []\n",
        "  for val in arr:\n",
        "    size = len(s)\n",
        "    s.add(val)\n",
        "    if(len(s) == size):\n",
        "      res.append(val)\n",
        "  return set(res) if res else None"
      ],
      "metadata": {
        "id": "8s_ZkSIXamMu"
      },
      "execution_count": null,
      "outputs": []
    },
    {
      "cell_type": "code",
      "source": [
        "print(duplicat([1,2,3,4,5]))"
      ],
      "metadata": {
        "colab": {
          "base_uri": "https://localhost:8080/"
        },
        "id": "q-Ebc8OYd2-c",
        "outputId": "9cb4464d-e480-4c8e-ed3d-24f4ddb0046c"
      },
      "execution_count": null,
      "outputs": [
        {
          "output_type": "stream",
          "name": "stdout",
          "text": [
            "None\n"
          ]
        }
      ]
    },
    {
      "cell_type": "code",
      "source": [
        "print(duplicat.__doc__)"
      ],
      "metadata": {
        "colab": {
          "base_uri": "https://localhost:8080/"
        },
        "id": "z7aJ1ukPfaki",
        "outputId": "0b28445f-1d32-49d2-e2d4-ea445c58a62e"
      },
      "execution_count": null,
      "outputs": [
        {
          "output_type": "stream",
          "name": "stdout",
          "text": [
            "\n",
            "  double(list arr)-> set or None\n",
            "\n",
            "  Args:\n",
            "    - arr: A list of elements to check for duplicates.\n",
            "  \n",
            "  Returns:\n",
            "    - A set of elements that occur more than once in the input list `arr` , or None if there are no duplicates\n",
            "  \n"
          ]
        }
      ]
    },
    {
      "cell_type": "markdown",
      "source": [
        "#Problem 2 ~ Two Sum"
      ],
      "metadata": {
        "id": "P4dzN70aH65W"
      }
    },
    {
      "cell_type": "markdown",
      "source": [
        "You are given a list nums and an integer target. Return the indeces of the elements from n that sum to target.\n",
        "\n",
        "Explanation:\n",
        "If we take the element at index 1, which is 5 and the element at index 3 which is 7, it sums to 12. nums[1] + nums[3] == 5 + 7 == 12"
      ],
      "metadata": {
        "id": "hJ3rxbSsK37_"
      }
    },
    {
      "cell_type": "markdown",
      "source": [
        "complexity o(n)"
      ],
      "metadata": {
        "id": "Iobine2sKrZg"
      }
    },
    {
      "cell_type": "code",
      "source": [
        "def tow_sum(arr , target):\n",
        "  '''\n",
        "  two_sum(list: arr , int: target) -> List or None\n",
        "\n",
        "  Arguments:\n",
        "    arr: A list of integers.\n",
        "    target: An integer representing the target sum.\n",
        "    \n",
        "  Returns:\n",
        "    A list containing the indices of two numbers in the input list that add up to the target sum, or None if no such pair exists.\n",
        "  '''\n",
        "  dic = {}\n",
        "  for i , val in enumerate(arr):\n",
        "    diferenc = target - val\n",
        "    if diferenc in dic:\n",
        "      return [dic[diferenc] , i]\n",
        "    dic[val] = i\n",
        "  return None"
      ],
      "metadata": {
        "id": "EaMz_e94H-7Q"
      },
      "execution_count": null,
      "outputs": []
    },
    {
      "cell_type": "code",
      "source": [
        "tow_sum([2, 5, 3, 7, 3, 8] , 9)"
      ],
      "metadata": {
        "colab": {
          "base_uri": "https://localhost:8080/"
        },
        "id": "7jWMdDx-ICGm",
        "outputId": "b3b257b5-0c79-4fc5-d62e-5bfd357e5c3c"
      },
      "execution_count": null,
      "outputs": [
        {
          "output_type": "execute_result",
          "data": {
            "text/plain": [
              "[0, 3]"
            ]
          },
          "metadata": {},
          "execution_count": 37
        }
      ]
    },
    {
      "cell_type": "markdown",
      "source": [
        "# Problem 3 ~ Greatest Common Divisor"
      ],
      "metadata": {
        "id": "hvlRW6x7IFkj"
      }
    },
    {
      "cell_type": "markdown",
      "source": [
        "Create a function that takes an arbitrary number of integers (2 or more) and uses the [Euclidean Algorithm](https://www.khanacademy.org/computing/computer-science/cryptography/modarithmetic/a/the-euclidean-algorithm) to compute the greatest common divisor (GCD) for those numbers.\n",
        "\n",
        "The ([GCD](https://www.khanacademy.org/math/cc-sixth-grade-math/cc-6th-expressions-and-variables/cc-6th-gcf/v/greatest-common-divisor)) of 2 numbers is defined as the highest number that divides both of the numbers exactly.\n",
        "\n",
        "The GCD of more than 2 numbers can be calculated using factoring as follows: GCD(a, b, c) = GCD(GCD(a, b), c)"
      ],
      "metadata": {
        "id": "jffWORCbLPKR"
      }
    },
    {
      "cell_type": "code",
      "source": [
        "def gcd_inter(num1 , num2):\n",
        "  '''\n",
        "    gcd_inter(int : num1 , int: num2) -> int\n",
        "    \n",
        "    interaction option\n",
        "\n",
        "    Returns:\n",
        "      Greatest Common Divisor num1 and num2 (Euclidean Algorithm)\n",
        "  '''\n",
        "  max_val = max(num1 , num2)\n",
        "  min_val = min(num1 , num2)\n",
        "  while(min_val):\n",
        "    defer = max_val % min_val\n",
        "    max_val = min_val\n",
        "    min_val = defer\n",
        "  return max_val"
      ],
      "metadata": {
        "id": "bFjsl6UA8P_f"
      },
      "execution_count": null,
      "outputs": []
    },
    {
      "cell_type": "code",
      "source": [
        "def gcd_all_inter(*arr):\n",
        "  '''\n",
        "    gcd_inter(int : arr) -> int\n",
        "    \n",
        "    used gcd_inter function\n",
        "    Args:\n",
        "    *arr: A variable-length argument tuple of integers.\n",
        "\n",
        "  Returns:\n",
        "    An integer representing the greatest common divisor of the input integers.\n",
        "  '''\n",
        "  if(len(arr) < 2):\n",
        "    raise ValueError(\"arr must be more elements\")\n",
        "  res = gcd_inter(arr[0] , arr[1])\n",
        "  for i in range(2 , len(arr)):\n",
        "    res = gcd_inter(res , arr[i])\n",
        "  return res"
      ],
      "metadata": {
        "id": "WMe_SMxmHqY-"
      },
      "execution_count": null,
      "outputs": []
    },
    {
      "cell_type": "markdown",
      "source": [
        "factorial_rec the difference bethween this function and recursia is that it does not cause chain of action"
      ],
      "metadata": {
        "id": "BC2F4BdTLCX7"
      }
    },
    {
      "cell_type": "code",
      "source": [
        "def gcd_rek(max_val , min_val , time = True):\n",
        "  '''\n",
        "    gcd_inter(int : max_val , int: min_val , bool: time = True) -> int\n",
        "    \n",
        "    rekursian versia\n",
        "\n",
        "    Returns:\n",
        "      Greatest Common Divisor max_val and min_val (Euclidean Algorithm)\n",
        "  '''\n",
        "  if(time and max_val < min_val):\n",
        "    max_val = min_val + max_val\n",
        "    min_val = max_val - min_val\n",
        "    max_val = max_val - min_val\n",
        "  if(not min_val):\n",
        "    return max_val\n",
        "  defer = max_val % min_val\n",
        "  max_val = min_val\n",
        "  min_val = defer\n",
        "  return gcd_rek(max_val , min_val , False)"
      ],
      "metadata": {
        "id": "A5mUYGNu9Tdt"
      },
      "execution_count": null,
      "outputs": []
    },
    {
      "cell_type": "code",
      "source": [
        "def gcd_all_rek(*arr):\n",
        "  '''\n",
        "    gcd_inter(int : arr) -> int\n",
        "    \n",
        "    used gcd_inter function\n",
        "    Args:\n",
        "    *arr: A variable-length argument tuple of integers.\n",
        "\n",
        "  Returns:\n",
        "    An integer representing the greatest common divisor of the input integers.\n",
        "  '''\n",
        "  if(len(arr) < 2):\n",
        "    raise ValueError(\"arr must be more elements\")\n",
        "  res = gcd_rek(arr[0] , arr[1])\n",
        "  for i in range(2 , len(arr)):\n",
        "    res = gcd_rek(res , arr[i])\n",
        "  return res"
      ],
      "metadata": {
        "id": "DtfNAgZ5FBed"
      },
      "execution_count": null,
      "outputs": []
    },
    {
      "cell_type": "markdown",
      "source": [
        "other version"
      ],
      "metadata": {
        "id": "lY_3iMelKlh_"
      }
    },
    {
      "cell_type": "code",
      "source": [
        "def gcd(*arr):\n",
        "  '''\n",
        "  gcd(list *arr)-> int\n",
        "\n",
        "  Args:\n",
        "    *arr: A variable-length argument tuple of integers.\n",
        "\n",
        "  Returns:\n",
        "    An integer representing the greatest common divisor of the input integers.\n",
        "  '''\n",
        "  if(len(arr) < 2):\n",
        "    raise ValueError(\"arr must be more elements\")\n",
        "  arr = list(set(arr))\n",
        "  arr.sort()\n",
        "  while(len(arr) > 1):\n",
        "    res = []\n",
        "    res = [val % arr[0] for val in arr[1:] if val % arr[0]]\n",
        "    res.append(arr[0])  \n",
        "    arr = list(set(res))\n",
        "    arr.sort()\n",
        "    print(arr)\n",
        "  return arr[0]\n"
      ],
      "metadata": {
        "id": "GmS2WwR6tr0D"
      },
      "execution_count": null,
      "outputs": []
    },
    {
      "cell_type": "markdown",
      "source": [
        "# Problem 4 ~ Profiling Decorator"
      ],
      "metadata": {
        "id": "1YaSzkfnIV56"
      }
    },
    {
      "cell_type": "markdown",
      "source": [
        "Profiling is a way to measure the performance of the software application by measuring the resources used (time, memory, etc.) for the particular parts of it.\n",
        "\n",
        "We want to create a decorator @profile that we can use to analyze the functions.\n",
        "\n",
        "The decorator should write all the logs to a file, separate from the application output.\n",
        "\n",
        "Each time a function is called in the application, it should write to the file the time, name of the function and how long it took to run it."
      ],
      "metadata": {
        "id": "QF2iiH-MMRam"
      }
    },
    {
      "cell_type": "code",
      "source": [
        "import datetime"
      ],
      "metadata": {
        "id": "_eHIK8urh1Zb"
      },
      "execution_count": 1,
      "outputs": []
    },
    {
      "cell_type": "markdown",
      "source": [
        "the 'a' mode allows the file to be opened for appending data to the end of the file.\n",
        "\n",
        "If the file 'performance.log' does not exist, it will be created"
      ],
      "metadata": {
        "id": "wImRhHSIIVxF"
      }
    },
    {
      "cell_type": "code",
      "source": [
        "def profile(foo):\n",
        "    def wrapper(num):\n",
        "      start_time = datetime.datetime.now()\n",
        "      foo(num)\n",
        "      end_time = datetime.datetime.now()\n",
        "      time_diff = end_time - start_time\n",
        "      with open('performance.log', 'a') as f:\n",
        "        f.write(f'{start_time} - Function {foo.__name__} ({num}) - {time_diff}\\n')\n",
        "    return wrapper\n",
        "@profile\n",
        "def foo(num):\n",
        " num = num ** num\n",
        "\n",
        "foo(15)"
      ],
      "metadata": {
        "id": "xIYnfxE8fP4U"
      },
      "execution_count": 4,
      "outputs": []
    }
  ]
}